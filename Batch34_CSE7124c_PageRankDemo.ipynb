{
 "cells": [
  {
   "cell_type": "code",
   "execution_count": 1,
   "metadata": {},
   "outputs": [
    {
     "data": {
      "text/plain": [
       "'F:\\\\insofe data\\\\Rstudio\\\\lab30_3_2_18__page rank,clustering,navie bayes'"
      ]
     },
     "execution_count": 1,
     "metadata": {},
     "output_type": "execute_result"
    }
   ],
   "source": [
    "import os\n",
    "os.getcwd()"
   ]
  },
  {
   "cell_type": "code",
   "execution_count": 1,
   "metadata": {},
   "outputs": [
    {
     "name": "stderr",
     "output_type": "stream",
     "text": [
      "Requirement 'python_igraph-0.7.1.post6-cp35-none-win_amd64.whl' looks like a filename, but the file does not exist\n",
      "python_igraph-0.7.1.post6-cp35-none-win_amd64.whl is not a supported wheel on this platform.\n"
     ]
    }
   ],
   "source": [
    "!pip install python_igraph-0.7.1.post6-cp35-none-win_amd64.whl"
   ]
  },
  {
   "cell_type": "code",
   "execution_count": 3,
   "metadata": {},
   "outputs": [
    {
     "name": "stdout",
     "output_type": "stream",
     "text": [
      "Collecting upgrade\n"
     ]
    },
    {
     "name": "stderr",
     "output_type": "stream",
     "text": [
      "  Could not find a version that satisfies the requirement upgrade (from versions: )\n",
      "No matching distribution found for upgrade\n",
      "You are using pip version 8.1.2, however version 9.0.1 is available.\n",
      "You should consider upgrading via the 'python -m pip install --upgrade pip' command.\n"
     ]
    }
   ],
   "source": [
    "!pip install upgrade igraph"
   ]
  },
  {
   "cell_type": "code",
   "execution_count": 6,
   "metadata": {
    "collapsed": true
   },
   "outputs": [],
   "source": [
    "from igraph import Graph"
   ]
  },
  {
   "cell_type": "code",
   "execution_count": 41,
   "metadata": {},
   "outputs": [
    {
     "name": "stdout",
     "output_type": "stream",
     "text": [
      "IGRAPH D--- 0 0 --\n"
     ]
    }
   ],
   "source": [
    "# Introduction to Graphs\n",
    "# Defining a graph\n",
    "g = Graph(directed=True)\n",
    "print(g)"
   ]
  },
  {
   "cell_type": "code",
   "execution_count": 8,
   "metadata": {},
   "outputs": [
    {
     "name": "stdout",
     "output_type": "stream",
     "text": [
      "IGRAPH U--- 3 3 --\n",
      "+ edges:\n",
      "0--1 1--2 1--2\n"
     ]
    }
   ],
   "source": [
    "# Adding vertices\n",
    "g.add_vertices(3)\n",
    "g.add_edges([(0,1), (1,2),(2,1)])\n",
    "print(g)"
   ]
  },
  {
   "cell_type": "code",
   "execution_count": 9,
   "metadata": {},
   "outputs": [
    {
     "name": "stdout",
     "output_type": "stream",
     "text": [
      "IGRAPH U--- 6 7 --\n",
      "+ edges:\n",
      "0--1 1--2 1--2 2--3 3--4 4--5 3--5\n"
     ]
    }
   ],
   "source": [
    "# Adding some more vertices\n",
    "g.add_vertices(3)\n",
    "g.add_edges([(2,3),(3,4),(4,5),(5,3)])\n",
    "print(g)# shows 6 vertices and 7 edges"
   ]
  },
  {
   "cell_type": "code",
   "execution_count": 11,
   "metadata": {},
   "outputs": [
    {
     "name": "stdout",
     "output_type": "stream",
     "text": [
      "IGRAPH U--- 6 5 --\n",
      "+ edges:\n",
      "0--1 1--2 3--4 4--5 3--5\n"
     ]
    }
   ],
   "source": [
    "#GET THE EDGE id\n",
    "g.get_eid(2,3)\n",
    "# remove the edge from graph\n",
    "g.delete_edges(2,3)\n",
    "print(g)"
   ]
  },
  {
   "cell_type": "code",
   "execution_count": 21,
   "metadata": {
    "collapsed": true
   },
   "outputs": [],
   "source": [
    "from igraph import *\n",
    "g = Graph(directed=True)\n",
    "g.add_vertices(3)\n",
    "g.add_edges([(0,1),(1,0),(1,2),(2,0)])\n",
    "g.write_svg(\"test1.svg\")"
   ]
  },
  {
   "cell_type": "code",
   "execution_count": 15,
   "metadata": {},
   "outputs": [
    {
     "name": "stdout",
     "output_type": "stream",
     "text": [
      "IGRAPH UN-- 7 9 --\n",
      "+ attr: age (v), gender (v), name (v), is_formal (e)\n",
      "+ edges (vertex names):\n",
      " Alice -- Bob, Claire, Frank             Esther -- Claire, Dennis\n",
      "   Bob -- Alice                           Frank -- Alice, Claire, George\n",
      "Claire -- Alice, Dennis, Esther, Frank   George -- Dennis, Frank\n",
      "Dennis -- Claire, Esther, George\n"
     ]
    }
   ],
   "source": [
    "# create a simple social nw\n",
    "g = Graph([(0,1), (0,2), (2,3), (3,4), (4,2), (2,5), (5,0), (6,3), (5,6)])\n",
    "# Assigning Attributes\n",
    "g.vs[\"name\"] = [\"Alice\", \"Bob\", \"Claire\", \"Dennis\", \"Esther\", \"Frank\", \"George\"]\n",
    "g.vs[\"age\"] = [25, 31, 18, 47, 22, 23, 50]\n",
    "g.vs[\"gender\"] = [\"f\", \"m\", \"f\", \"m\", \"f\", \"m\", \"m\"]\n",
    "g.es[\"is_formal\"] = [False, False, True, True, True, False, True, False, False]\n",
    "print(g)"
   ]
  },
  {
   "cell_type": "code",
   "execution_count": 16,
   "metadata": {},
   "outputs": [
    {
     "name": "stdout",
     "output_type": "stream",
     "text": [
      "3\n",
      "1\n",
      "[3, 1, 4]\n"
     ]
    }
   ],
   "source": [
    "# get the degree of each person(no of inlink +outlink)\n",
    "g.degree()\n",
    "# get the edges from a vertex\n",
    "print(g.degree(\"Alice\"))\n",
    "print(g.degree(\"Bob\"))\n",
    "print(g.degree([\"Alice\",\"Bob\",\"Claire\"]))"
   ]
  },
  {
   "cell_type": "code",
   "execution_count": 27,
   "metadata": {},
   "outputs": [
    {
     "name": "stdout",
     "output_type": "stream",
     "text": [
      "IGRAPH D--- 3 4 --\n",
      "+ edges:\n",
      "0->1 1->0 1->2 2->0\n"
     ]
    }
   ],
   "source": [
    "from igraph import *\n",
    "g = Graph(directed=True)\n",
    "g.add_vertices(3)\n",
    "g.add_edges([(0,1),(1,0),(1,2),(2,0)])\n",
    "print(g)"
   ]
  },
  {
   "cell_type": "code",
   "execution_count": 28,
   "metadata": {},
   "outputs": [
    {
     "data": {
      "text/plain": [
       "[0.3973996608253251, 0.3877897117015263, 0.21481062747314866]"
      ]
     },
     "execution_count": 28,
     "metadata": {},
     "output_type": "execute_result"
    }
   ],
   "source": [
    "g.pagerank()"
   ]
  },
  {
   "cell_type": "markdown",
   "metadata": {},
   "source": [
    "# Compute page rank manually"
   ]
  },
  {
   "cell_type": "code",
   "execution_count": 32,
   "metadata": {
    "collapsed": true
   },
   "outputs": [],
   "source": [
    "import numpy as np\n",
    "# input two matrices\n",
    "mat1 = ([0, 1/2, 1],[1 ,0, 0],[0, 1/2, 0])\n",
    "mat2 = ([1/3, 1/3, 1/3])\n",
    "r1=np.dot(mat1,mat2)"
   ]
  },
  {
   "cell_type": "code",
   "execution_count": 33,
   "metadata": {},
   "outputs": [
    {
     "name": "stdout",
     "output_type": "stream",
     "text": [
      "[ 0.33333333  0.5         0.16666667]\n",
      "[ 0.41666667  0.33333333  0.25      ]\n",
      "[ 0.41666667  0.41666667  0.16666667]\n",
      "[ 0.375       0.41666667  0.20833333]\n",
      "[ 0.41666667  0.375       0.20833333]\n",
      "[ 0.39583333  0.41666667  0.1875    ]\n",
      "[ 0.39583333  0.39583333  0.20833333]\n",
      "[ 0.40625     0.39583333  0.19791667]\n",
      "[ 0.39583333  0.40625     0.19791667]\n",
      "[ 0.40104167  0.39583333  0.203125  ]\n",
      "[ 0.40104167  0.40104167  0.19791667]\n"
     ]
    }
   ],
   "source": [
    "r2=np.dot(mat1,r1)\n",
    "print(r2)\n",
    "r3=np.dot(mat1,r2)\n",
    "print(r3)\n",
    "r4=np.dot(mat1,r3)\n",
    "print(r4)\n",
    "r5=np.dot(mat1,r4)\n",
    "print(r5)\n",
    "r6=np.dot(mat1,r5)\n",
    "print(r6)\n",
    "r7=np.dot(mat1,r6)\n",
    "print(r7)\n",
    "r8=np.dot(mat1,r7)\n",
    "print(r8)\n",
    "r9=np.dot(mat1,r8)\n",
    "print(r9)\n",
    "r10=np.dot(mat1,r9)\n",
    "print(r10)\n",
    "r11=np.dot(mat1,r10)\n",
    "print(r11)\n",
    "r12=np.dot(mat1,r11)\n",
    "print(r12)"
   ]
  },
  {
   "cell_type": "code",
   "execution_count": 49,
   "metadata": {},
   "outputs": [
    {
     "name": "stdout",
     "output_type": "stream",
     "text": [
      "[ 0.5         0.33333333  0.16666667]\n",
      "[ 0.33333333  0.5         0.16666667]\n",
      "[ 0.41666667  0.33333333  0.25      ]\n",
      "[ 0.41666667  0.41666667  0.16666667]\n",
      "[ 0.375       0.41666667  0.20833333]\n",
      "[ 0.41666667  0.375       0.20833333]\n",
      "[ 0.39583333  0.41666667  0.1875    ]\n",
      "[ 0.39583333  0.39583333  0.20833333]\n",
      "[ 0.40625     0.39583333  0.19791667]\n",
      "[ 0.39583333  0.40625     0.19791667]\n",
      "[ 0.40104167  0.39583333  0.203125  ]\n",
      "[ 0.40104167  0.40104167  0.19791667]\n",
      "[ 0.3984375   0.40104167  0.20052083]\n",
      "[ 0.40104167  0.3984375   0.20052083]\n",
      "[ 0.39973958  0.40104167  0.19921875]\n",
      "[ 0.39973958  0.39973958  0.20052083]\n",
      "[ 0.40039062  0.39973958  0.19986979]\n",
      "[ 0.39973958  0.40039062  0.19986979]\n",
      "[ 0.4000651   0.39973958  0.20019531]\n",
      "[ 0.4000651   0.4000651   0.19986979]\n",
      "[ 0.39990234  0.4000651   0.20003255]\n",
      "[ 0.4000651   0.39990234  0.20003255]\n",
      "[ 0.39998372  0.4000651   0.19995117]\n",
      "[ 0.39998372  0.39998372  0.20003255]\n",
      "[ 0.40002441  0.39998372  0.19999186]\n",
      "[ 0.39998372  0.40002441  0.19999186]\n",
      "[ 0.40000407  0.39998372  0.20001221]\n",
      "[ 0.40000407  0.40000407  0.19999186]\n",
      "[ 0.3999939   0.40000407  0.20000203]\n",
      "[ 0.40000407  0.3999939   0.20000203]\n",
      "[ 0.39999898  0.40000407  0.19999695]\n",
      "[ 0.39999898  0.39999898  0.20000203]\n",
      "[ 0.40000153  0.39999898  0.19999949]\n",
      "[ 0.39999898  0.40000153  0.19999949]\n"
     ]
    },
    {
     "data": {
      "text/plain": [
       "[0.3973996608253251, 0.3877897117015263, 0.21481062747314866]"
      ]
     },
     "execution_count": 49,
     "metadata": {},
     "output_type": "execute_result"
    }
   ],
   "source": [
    "r=mat2\n",
    "for i in range(1,35):\n",
    "    M=np.dot(mat1,r)\n",
    "    r=M\n",
    "    print(M)\n",
    "G.pagerank()    "
   ]
  },
  {
   "cell_type": "markdown",
   "metadata": {},
   "source": [
    "# Let us try to see the manual calculation we will use the formula\n",
    "# (1-d)/N+d*(PR(Ti)/NO(Ti)+......+(PR(Tn)/NO(Tn))"
   ]
  },
  {
   "cell_type": "code",
   "execution_count": 23,
   "metadata": {},
   "outputs": [
    {
     "name": "stdout",
     "output_type": "stream",
     "text": [
      "0.474575\n",
      "0.33305\n",
      "0.191525\n"
     ]
    }
   ],
   "source": [
    "#Round 1\n",
    "# initial ranking of all page was .3333 which is equally distributed.\n",
    "#page rank of page A, \n",
    "print((.15/3)+.85*((.333/2)+.333))\n",
    "#page rank of B\n",
    "print((.15/3)+.85*(.333))\n",
    "#page rank of B\n",
    "print((.15/3)+.85*(.333/2))"
   ]
  },
  {
   "cell_type": "code",
   "execution_count": 11,
   "metadata": {
    "scrolled": true
   },
   "outputs": [
    {
     "name": "stdout",
     "output_type": "stream",
     "text": [
      "0.3543425\n",
      "0.45338875\n",
      "0.19154625\n"
     ]
    }
   ],
   "source": [
    "#Round 2\n",
    "#page rank of page A, \n",
    "print((.15/3)+.85*((0.33305/2)+0.191525))\n",
    "#page rank of B\n",
    "print((.15/3)+.85*(0.474575))\n",
    "#page rank of B\n",
    "print((.15/3)+.85*(0.33305/2))"
   ]
  },
  {
   "cell_type": "code",
   "execution_count": 12,
   "metadata": {},
   "outputs": [
    {
     "name": "stdout",
     "output_type": "stream",
     "text": [
      "0.40550453125\n",
      "0.351191125\n",
      "0.24269021875\n"
     ]
    }
   ],
   "source": [
    "#Round 3\n",
    "#page rank of page A, \n",
    "print((.15/3)+.85*((0.45338875/2)+0.19154625))\n",
    "#page rank of B\n",
    "print((.15/3)+.85*(0.3543425))\n",
    "#page rank of B\n",
    "print((.15/3)+.85*(0.45338875/2))"
   ]
  },
  {
   "cell_type": "code",
   "execution_count": 13,
   "metadata": {
    "scrolled": true
   },
   "outputs": [
    {
     "name": "stdout",
     "output_type": "stream",
     "text": [
      "0.405542914062\n",
      "0.394678851562\n",
      "0.199256228125\n"
     ]
    }
   ],
   "source": [
    "#Round 4\n",
    "#page rank of page A, \n",
    "print((.15/3)+.85*((0.351191125/2)+0.24269021875))\n",
    "#page rank of B\n",
    "print((.15/3)+.85*(0.40550453125))\n",
    "#page rank of B\n",
    "print((.15/3)+.85*(0.351191125/2))"
   ]
  },
  {
   "cell_type": "code",
   "execution_count": 14,
   "metadata": {},
   "outputs": [
    {
     "name": "stdout",
     "output_type": "stream",
     "text": [
      "0.38710630582\n",
      "0.394711476953\n",
      "0.217738511914\n"
     ]
    }
   ],
   "source": [
    "#Round 5\n",
    "#page rank of page A, \n",
    "print((.15/3)+.85*((0.394678851562/2)+0.199256228125))\n",
    "#page rank of B\n",
    "print((.15/3)+.85*(0.405542914062))\n",
    "#page rank of B\n",
    "print((.15/3)+.85*(0.394678851562/2))"
   ]
  },
  {
   "cell_type": "code",
   "execution_count": 15,
   "metadata": {},
   "outputs": [
    {
     "name": "stdout",
     "output_type": "stream",
     "text": [
      "0.402830112832\n",
      "0.379040359947\n",
      "0.217752377705\n"
     ]
    }
   ],
   "source": [
    "#Round 6\n",
    "#page rank of page A, \n",
    "print((.15/3)+.85*((0.394711476953/2)+0.217738511914))\n",
    "#page rank of B\n",
    "print((.15/3)+.85*(0.38710630582))\n",
    "#page rank of B\n",
    "print((.15/3)+.85*(0.394711476953/2))"
   ]
  },
  {
   "cell_type": "code",
   "execution_count": 16,
   "metadata": {},
   "outputs": [
    {
     "name": "stdout",
     "output_type": "stream",
     "text": [
      "0.396181674027\n",
      "0.392405595907\n",
      "0.211092152977\n"
     ]
    }
   ],
   "source": [
    "#Round 7\n",
    "#page rank of page A, \n",
    "print((.15/3)+.85*((0.379040359947/2)+0.217752377705))\n",
    "#page rank of B\n",
    "print((.15/3)+.85*(0.402830112832))\n",
    "#page rank of B\n",
    "print((.15/3)+.85*(0.379040359947/2))"
   ]
  },
  {
   "cell_type": "code",
   "execution_count": 17,
   "metadata": {},
   "outputs": [
    {
     "name": "stdout",
     "output_type": "stream",
     "text": [
      "0.396200708291\n",
      "0.386754422923\n",
      "0.21677237826\n"
     ]
    }
   ],
   "source": [
    "#Round 8\n",
    "#page rank of page A, \n",
    "print((.15/3)+.85*((0.392405595907/2)+0.211092152977))\n",
    "#page rank of B\n",
    "print((.15/3)+.85*(0.396181674027))\n",
    "#page rank of B\n",
    "print((.15/3)+.85*(0.392405595907/2))"
   ]
  },
  {
   "cell_type": "code",
   "execution_count": 18,
   "metadata": {},
   "outputs": [
    {
     "name": "stdout",
     "output_type": "stream",
     "text": [
      "0.398627151263\n",
      "0.386770602047\n",
      "0.214370629742\n"
     ]
    }
   ],
   "source": [
    "#Round 9\n",
    "#page rank of page A, \n",
    "print((.15/3)+.85*((0.386754422923/2)+0.21677237826))\n",
    "#page rank of B\n",
    "print((.15/3)+.85*(0.396200708291))\n",
    "#page rank of B\n",
    "print((.15/3)+.85*(0.386754422923/2))"
   ]
  },
  {
   "cell_type": "code",
   "execution_count": 19,
   "metadata": {},
   "outputs": [
    {
     "name": "stdout",
     "output_type": "stream",
     "text": [
      "0.396592541151\n",
      "0.388833078574\n",
      "0.21437750587\n"
     ]
    }
   ],
   "source": [
    "#Round 10\n",
    "#page rank of page A, \n",
    "print((.15/3)+.85*((0.386770602047/2)+0.214370629742))\n",
    "#page rank of B\n",
    "print((.15/3)+.85*(0.398627151263))\n",
    "#page rank of B\n",
    "print((.15/3)+.85*(0.386770602047/2))"
   ]
  },
  {
   "cell_type": "code",
   "execution_count": 20,
   "metadata": {},
   "outputs": [
    {
     "data": {
      "text/plain": [
       "[0.3973996608253251, 0.3877897117015263, 0.21481062747314866]"
      ]
     },
     "execution_count": 20,
     "metadata": {},
     "output_type": "execute_result"
    }
   ],
   "source": [
    "g.pagerank()"
   ]
  },
  {
   "cell_type": "markdown",
   "metadata": {},
   "source": [
    "# Example 2 Assignment"
   ]
  },
  {
   "cell_type": "code",
   "execution_count": 39,
   "metadata": {},
   "outputs": [
    {
     "name": "stdout",
     "output_type": "stream",
     "text": [
      "IGRAPH D--- 4 8 --\n",
      "+ edges:\n",
      "0->1 0->2 0->3 1->0 1->3 2->0 3->1 3->2\n"
     ]
    }
   ],
   "source": [
    "G1=Graph(directed=True)\n",
    "G1.add_vertices(4)\n",
    "G1.add_edges([(0,1),(0,2),(0,3),(1,0),(1,3),(2,0),(3,1),(3,2)])\n",
    "print(G1)"
   ]
  },
  {
   "cell_type": "code",
   "execution_count": 40,
   "metadata": {},
   "outputs": [
    {
     "data": {
      "text/plain": [
       "[0.32456140350877194,\n",
       " 0.22514619883040934,\n",
       " 0.22514619883040934,\n",
       " 0.22514619883040932]"
      ]
     },
     "execution_count": 40,
     "metadata": {},
     "output_type": "execute_result"
    }
   ],
   "source": [
    "G1.pagerank()"
   ]
  },
  {
   "cell_type": "code",
   "execution_count": null,
   "metadata": {
    "collapsed": true
   },
   "outputs": [],
   "source": []
  }
 ],
 "metadata": {
  "anaconda-cloud": {},
  "kernelspec": {
   "display_name": "Python 3",
   "language": "python",
   "name": "python3"
  },
  "language_info": {
   "codemirror_mode": {
    "name": "ipython",
    "version": 3
   },
   "file_extension": ".py",
   "mimetype": "text/x-python",
   "name": "python",
   "nbconvert_exporter": "python",
   "pygments_lexer": "ipython3",
   "version": "3.6.1"
  }
 },
 "nbformat": 4,
 "nbformat_minor": 2
}
